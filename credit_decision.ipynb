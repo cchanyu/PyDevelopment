{
 "cells": [
  {
   "cell_type": "markdown",
   "metadata": {},
   "source": [
    "Step 1: Write import statements\n",
    "Step 2: Set bias detection options, load dataset, and split between train and test\n",
    "Step 3: Compute fairness metric on original training dataset\n",
    "Step 4: Mitigate bias by transforming the original dataset\n",
    "Step 5: Compute fairness metric on transformed training dataset"
   ]
  },
  {
   "cell_type": "code",
   "execution_count": 1,
   "metadata": {},
   "outputs": [
    {
     "name": "stdout",
     "output_type": "stream",
     "text": [
      "Requirement already satisfied: aif360 in c:\\python38\\lib\\site-packages (0.4.0)\n",
      "Requirement already satisfied: scikit-learn>=0.22.1 in c:\\python38\\lib\\site-packages (from aif360) (1.1.1)\n",
      "Requirement already satisfied: numpy>=1.16 in c:\\python38\\lib\\site-packages (from aif360) (1.22.4)\n",
      "Requirement already satisfied: tempeh in c:\\python38\\lib\\site-packages (from aif360) (0.1.12)\n",
      "Requirement already satisfied: matplotlib in c:\\python38\\lib\\site-packages (from aif360) (3.5.2)\n",
      "Requirement already satisfied: pandas>=0.24.0 in c:\\python38\\lib\\site-packages (from aif360) (1.4.2)\n",
      "Requirement already satisfied: scipy<1.6.0,>=1.2.0 in c:\\python38\\lib\\site-packages (from aif360) (1.5.4)\n",
      "Requirement already satisfied: python-dateutil>=2.8.1 in c:\\python38\\lib\\site-packages (from pandas>=0.24.0->aif360) (2.8.2)\n",
      "Requirement already satisfied: pytz>=2020.1 in c:\\python38\\lib\\site-packages (from pandas>=0.24.0->aif360) (2022.1)\n",
      "Requirement already satisfied: six>=1.5 in c:\\python38\\lib\\site-packages (from python-dateutil>=2.8.1->pandas>=0.24.0->aif360) (1.16.0)\n",
      "Requirement already satisfied: threadpoolctl>=2.0.0 in c:\\python38\\lib\\site-packages (from scikit-learn>=0.22.1->aif360) (3.1.0)\n",
      "Requirement already satisfied: joblib>=1.0.0 in c:\\python38\\lib\\site-packages (from scikit-learn>=0.22.1->aif360) (1.1.0)\n",
      "Requirement already satisfied: pillow>=6.2.0 in c:\\python38\\lib\\site-packages (from matplotlib->aif360) (9.1.1)\n",
      "Requirement already satisfied: pyparsing>=2.2.1 in c:\\python38\\lib\\site-packages (from matplotlib->aif360) (3.0.9)\n",
      "Requirement already satisfied: fonttools>=4.22.0 in c:\\python38\\lib\\site-packages (from matplotlib->aif360) (4.33.3)\n",
      "Requirement already satisfied: kiwisolver>=1.0.1 in c:\\python38\\lib\\site-packages (from matplotlib->aif360) (1.4.2)\n",
      "Requirement already satisfied: packaging>=20.0 in c:\\python38\\lib\\site-packages (from matplotlib->aif360) (21.3)\n",
      "Requirement already satisfied: cycler>=0.10 in c:\\python38\\lib\\site-packages (from matplotlib->aif360) (0.11.0)\n",
      "Requirement already satisfied: shap in c:\\python38\\lib\\site-packages (from tempeh->aif360) (0.40.0)\n",
      "Requirement already satisfied: memory-profiler in c:\\python38\\lib\\site-packages (from tempeh->aif360) (0.60.0)\n",
      "Requirement already satisfied: requests in c:\\python38\\lib\\site-packages (from tempeh->aif360) (2.27.1)\n",
      "Requirement already satisfied: pytest in c:\\python38\\lib\\site-packages (from tempeh->aif360) (7.1.2)\n",
      "Requirement already satisfied: psutil in c:\\python38\\lib\\site-packages (from memory-profiler->tempeh->aif360) (5.9.1)\n",
      "Requirement already satisfied: pluggy<2.0,>=0.12 in c:\\python38\\lib\\site-packages (from pytest->tempeh->aif360) (1.0.0)\n",
      "Requirement already satisfied: iniconfig in c:\\python38\\lib\\site-packages (from pytest->tempeh->aif360) (1.1.1)\n",
      "Requirement already satisfied: tomli>=1.0.0 in c:\\python38\\lib\\site-packages (from pytest->tempeh->aif360) (2.0.1)\n",
      "Requirement already satisfied: colorama in c:\\python38\\lib\\site-packages (from pytest->tempeh->aif360) (0.4.4)\n",
      "Requirement already satisfied: attrs>=19.2.0 in c:\\python38\\lib\\site-packages (from pytest->tempeh->aif360) (21.4.0)\n",
      "Requirement already satisfied: atomicwrites>=1.0 in c:\\python38\\lib\\site-packages (from pytest->tempeh->aif360) (1.4.0)\n",
      "Requirement already satisfied: py>=1.8.2 in c:\\python38\\lib\\site-packages (from pytest->tempeh->aif360) (1.11.0)\n",
      "Requirement already satisfied: certifi>=2017.4.17 in c:\\python38\\lib\\site-packages (from requests->tempeh->aif360) (2022.5.18.1)\n",
      "Requirement already satisfied: charset-normalizer~=2.0.0 in c:\\python38\\lib\\site-packages (from requests->tempeh->aif360) (2.0.12)\n",
      "Requirement already satisfied: urllib3<1.27,>=1.21.1 in c:\\python38\\lib\\site-packages (from requests->tempeh->aif360) (1.26.9)\n",
      "Requirement already satisfied: idna<4,>=2.5 in c:\\python38\\lib\\site-packages (from requests->tempeh->aif360) (3.3)\n",
      "Requirement already satisfied: cloudpickle in c:\\python38\\lib\\site-packages (from shap->tempeh->aif360) (2.1.0)\n",
      "Requirement already satisfied: numba in c:\\python38\\lib\\site-packages (from shap->tempeh->aif360) (0.55.2)\n",
      "Requirement already satisfied: slicer==0.0.7 in c:\\python38\\lib\\site-packages (from shap->tempeh->aif360) (0.0.7)\n",
      "Requirement already satisfied: tqdm>4.25.0 in c:\\python38\\lib\\site-packages (from shap->tempeh->aif360) (4.64.0)\n",
      "Requirement already satisfied: llvmlite<0.39,>=0.38.0rc1 in c:\\python38\\lib\\site-packages (from numba->shap->tempeh->aif360) (0.38.1)\n",
      "Requirement already satisfied: setuptools in c:\\python38\\lib\\site-packages (from numba->shap->tempeh->aif360) (56.0.0)\n",
      "Note: you may need to restart the kernel to use updated packages.\n"
     ]
    },
    {
     "name": "stderr",
     "output_type": "stream",
     "text": [
      "WARNING: You are using pip version 21.1.1; however, version 22.1.2 is available.\n",
      "You should consider upgrading via the 'c:\\Python38\\python.exe -m pip install --upgrade pip' command.\n"
     ]
    }
   ],
   "source": [
    "%pip install aif360"
   ]
  },
  {
   "cell_type": "code",
   "execution_count": 2,
   "metadata": {},
   "outputs": [
    {
     "name": "stdout",
     "output_type": "stream",
     "text": [
      "Requirement already satisfied: cvxpy==0.4.11 in c:\\python38\\lib\\site-packages (0.4.11)\n",
      "Requirement already satisfied: ecos>=2 in c:\\python38\\lib\\site-packages (from cvxpy==0.4.11) (2.0.10)\n",
      "Requirement already satisfied: scs>=1.1.3 in c:\\python38\\lib\\site-packages (from cvxpy==0.4.11) (3.2.0)\n",
      "Requirement already satisfied: multiprocess in c:\\python38\\lib\\site-packages (from cvxpy==0.4.11) (0.70.13)\n",
      "Requirement already satisfied: fastcache in c:\\python38\\lib\\site-packages (from cvxpy==0.4.11) (1.1.0)\n",
      "Requirement already satisfied: six in c:\\python38\\lib\\site-packages (from cvxpy==0.4.11) (1.16.0)\n",
      "Requirement already satisfied: toolz in c:\\python38\\lib\\site-packages (from cvxpy==0.4.11) (0.11.2)\n",
      "Requirement already satisfied: numpy>=1.9 in c:\\python38\\lib\\site-packages (from cvxpy==0.4.11) (1.22.4)\n",
      "Requirement already satisfied: scipy>=0.15 in c:\\python38\\lib\\site-packages (from cvxpy==0.4.11) (1.5.4)\n",
      "Requirement already satisfied: CVXcanon>=0.0.22 in c:\\python38\\lib\\site-packages (from cvxpy==0.4.11) (0.1.2)\n",
      "Requirement already satisfied: dill>=0.3.5.1 in c:\\python38\\lib\\site-packages (from multiprocess->cvxpy==0.4.11) (0.3.5.1)\n",
      "Note: you may need to restart the kernel to use updated packages.\n"
     ]
    },
    {
     "name": "stderr",
     "output_type": "stream",
     "text": [
      "WARNING: You are using pip version 21.1.1; however, version 22.1.2 is available.\n",
      "You should consider upgrading via the 'c:\\Python38\\python.exe -m pip install --upgrade pip' command.\n"
     ]
    }
   ],
   "source": [
    "%pip install cvxpy==0.4.11"
   ]
  },
  {
   "cell_type": "code",
   "execution_count": 4,
   "metadata": {},
   "outputs": [],
   "source": [
    "# Load all necessary packages\n",
    "import sys\n",
    "sys.path.insert(1, \"../\")  \n",
    "\n",
    "import numpy as np\n",
    "np.random.seed(0)\n",
    "\n",
    "from aif360.datasets import GermanDataset\n",
    "from aif360.metrics import BinaryLabelDatasetMetric\n",
    "from aif360.algorithms.preprocessing import Reweighing\n",
    "\n",
    "from IPython.display import Markdown, display"
   ]
  },
  {
   "cell_type": "code",
   "execution_count": 5,
   "metadata": {},
   "outputs": [
    {
     "name": "stderr",
     "output_type": "stream",
     "text": [
      "UsageError: Line magic function `%python` not found (But cell magic `%%python` exists, did you mean that instead?).\n"
     ]
    }
   ],
   "source": [
    "aif360_location = %python -c \"from distutils.sysconfig import get_python_lib; print(get_python_lib())\"\n",
    "import os\n",
    "install_loc = os.path.join(aif360_location[0], \"aif360/data/raw/german/\")\n",
    "%cd $install_loc"
   ]
  },
  {
   "cell_type": "code",
   "execution_count": 7,
   "metadata": {},
   "outputs": [
    {
     "name": "stderr",
     "output_type": "stream",
     "text": [
      "UsageError: Line magic function `%wget` not found.\n"
     ]
    }
   ],
   "source": [
    "%wget ftp://ftp.ics.uci.edu/pub/machine-learning-databases/statlog/german/german.data\n",
    "%wget ftp://ftp.ics.uci.edu/pub/machine-learning-databases/statlog/german/german.doc"
   ]
  },
  {
   "cell_type": "code",
   "execution_count": 12,
   "metadata": {},
   "outputs": [
    {
     "name": "stdout",
     "output_type": "stream",
     "text": [
      "IOError: [Errno 2] No such file or directory: 'c:\\\\Python38\\\\lib\\\\site-packages\\\\aif360\\\\datasets\\\\..\\\\data\\\\raw\\\\german\\\\german.data'\n",
      "To use this class, please download the following files:\n",
      "\n",
      "\thttps://archive.ics.uci.edu/ml/machine-learning-databases/statlog/german/german.data\n",
      "\thttps://archive.ics.uci.edu/ml/machine-learning-databases/statlog/german/german.doc\n",
      "\n",
      "and place them, as-is, in the folder:\n",
      "\n",
      "\tc:\\Python38\\lib\\site-packages\\aif360\\data\\raw\\german\n",
      "\n"
     ]
    },
    {
     "ename": "AssertionError",
     "evalue": "",
     "output_type": "error",
     "traceback": [
      "\u001b[1;31m---------------------------------------------------------------------------\u001b[0m",
      "\u001b[1;31mFileNotFoundError\u001b[0m                         Traceback (most recent call last)",
      "File \u001b[1;32mc:\\Python38\\lib\\site-packages\\aif360\\datasets\\german_dataset.py:78\u001b[0m, in \u001b[0;36mGermanDataset.__init__\u001b[1;34m(self, label_name, favorable_classes, protected_attribute_names, privileged_classes, instance_weights_name, categorical_features, features_to_keep, features_to_drop, na_values, custom_preprocessing, metadata)\u001b[0m\n\u001b[0;32m     <a href='file:///c%3A/Python38/lib/site-packages/aif360/datasets/german_dataset.py?line=76'>77</a>\u001b[0m \u001b[39mtry\u001b[39;00m:\n\u001b[1;32m---> <a href='file:///c%3A/Python38/lib/site-packages/aif360/datasets/german_dataset.py?line=77'>78</a>\u001b[0m     df \u001b[39m=\u001b[39m pd\u001b[39m.\u001b[39;49mread_csv(filepath, sep\u001b[39m=\u001b[39;49m\u001b[39m'\u001b[39;49m\u001b[39m \u001b[39;49m\u001b[39m'\u001b[39;49m, header\u001b[39m=\u001b[39;49m\u001b[39mNone\u001b[39;49;00m, names\u001b[39m=\u001b[39;49mcolumn_names,\n\u001b[0;32m     <a href='file:///c%3A/Python38/lib/site-packages/aif360/datasets/german_dataset.py?line=78'>79</a>\u001b[0m                      na_values\u001b[39m=\u001b[39;49mna_values)\n\u001b[0;32m     <a href='file:///c%3A/Python38/lib/site-packages/aif360/datasets/german_dataset.py?line=79'>80</a>\u001b[0m \u001b[39mexcept\u001b[39;00m \u001b[39mIOError\u001b[39;00m \u001b[39mas\u001b[39;00m err:\n",
      "File \u001b[1;32mc:\\Python38\\lib\\site-packages\\pandas\\util\\_decorators.py:311\u001b[0m, in \u001b[0;36mdeprecate_nonkeyword_arguments.<locals>.decorate.<locals>.wrapper\u001b[1;34m(*args, **kwargs)\u001b[0m\n\u001b[0;32m    <a href='file:///c%3A/Python38/lib/site-packages/pandas/util/_decorators.py?line=305'>306</a>\u001b[0m     warnings\u001b[39m.\u001b[39mwarn(\n\u001b[0;32m    <a href='file:///c%3A/Python38/lib/site-packages/pandas/util/_decorators.py?line=306'>307</a>\u001b[0m         msg\u001b[39m.\u001b[39mformat(arguments\u001b[39m=\u001b[39marguments),\n\u001b[0;32m    <a href='file:///c%3A/Python38/lib/site-packages/pandas/util/_decorators.py?line=307'>308</a>\u001b[0m         \u001b[39mFutureWarning\u001b[39;00m,\n\u001b[0;32m    <a href='file:///c%3A/Python38/lib/site-packages/pandas/util/_decorators.py?line=308'>309</a>\u001b[0m         stacklevel\u001b[39m=\u001b[39mstacklevel,\n\u001b[0;32m    <a href='file:///c%3A/Python38/lib/site-packages/pandas/util/_decorators.py?line=309'>310</a>\u001b[0m     )\n\u001b[1;32m--> <a href='file:///c%3A/Python38/lib/site-packages/pandas/util/_decorators.py?line=310'>311</a>\u001b[0m \u001b[39mreturn\u001b[39;00m func(\u001b[39m*\u001b[39;49margs, \u001b[39m*\u001b[39;49m\u001b[39m*\u001b[39;49mkwargs)\n",
      "File \u001b[1;32mc:\\Python38\\lib\\site-packages\\pandas\\io\\parsers\\readers.py:680\u001b[0m, in \u001b[0;36mread_csv\u001b[1;34m(filepath_or_buffer, sep, delimiter, header, names, index_col, usecols, squeeze, prefix, mangle_dupe_cols, dtype, engine, converters, true_values, false_values, skipinitialspace, skiprows, skipfooter, nrows, na_values, keep_default_na, na_filter, verbose, skip_blank_lines, parse_dates, infer_datetime_format, keep_date_col, date_parser, dayfirst, cache_dates, iterator, chunksize, compression, thousands, decimal, lineterminator, quotechar, quoting, doublequote, escapechar, comment, encoding, encoding_errors, dialect, error_bad_lines, warn_bad_lines, on_bad_lines, delim_whitespace, low_memory, memory_map, float_precision, storage_options)\u001b[0m\n\u001b[0;32m    <a href='file:///c%3A/Python38/lib/site-packages/pandas/io/parsers/readers.py?line=677'>678</a>\u001b[0m kwds\u001b[39m.\u001b[39mupdate(kwds_defaults)\n\u001b[1;32m--> <a href='file:///c%3A/Python38/lib/site-packages/pandas/io/parsers/readers.py?line=679'>680</a>\u001b[0m \u001b[39mreturn\u001b[39;00m _read(filepath_or_buffer, kwds)\n",
      "File \u001b[1;32mc:\\Python38\\lib\\site-packages\\pandas\\io\\parsers\\readers.py:575\u001b[0m, in \u001b[0;36m_read\u001b[1;34m(filepath_or_buffer, kwds)\u001b[0m\n\u001b[0;32m    <a href='file:///c%3A/Python38/lib/site-packages/pandas/io/parsers/readers.py?line=573'>574</a>\u001b[0m \u001b[39m# Create the parser.\u001b[39;00m\n\u001b[1;32m--> <a href='file:///c%3A/Python38/lib/site-packages/pandas/io/parsers/readers.py?line=574'>575</a>\u001b[0m parser \u001b[39m=\u001b[39m TextFileReader(filepath_or_buffer, \u001b[39m*\u001b[39;49m\u001b[39m*\u001b[39;49mkwds)\n\u001b[0;32m    <a href='file:///c%3A/Python38/lib/site-packages/pandas/io/parsers/readers.py?line=576'>577</a>\u001b[0m \u001b[39mif\u001b[39;00m chunksize \u001b[39mor\u001b[39;00m iterator:\n",
      "File \u001b[1;32mc:\\Python38\\lib\\site-packages\\pandas\\io\\parsers\\readers.py:933\u001b[0m, in \u001b[0;36mTextFileReader.__init__\u001b[1;34m(self, f, engine, **kwds)\u001b[0m\n\u001b[0;32m    <a href='file:///c%3A/Python38/lib/site-packages/pandas/io/parsers/readers.py?line=931'>932</a>\u001b[0m \u001b[39mself\u001b[39m\u001b[39m.\u001b[39mhandles: IOHandles \u001b[39m|\u001b[39m \u001b[39mNone\u001b[39;00m \u001b[39m=\u001b[39m \u001b[39mNone\u001b[39;00m\n\u001b[1;32m--> <a href='file:///c%3A/Python38/lib/site-packages/pandas/io/parsers/readers.py?line=932'>933</a>\u001b[0m \u001b[39mself\u001b[39m\u001b[39m.\u001b[39m_engine \u001b[39m=\u001b[39m \u001b[39mself\u001b[39;49m\u001b[39m.\u001b[39;49m_make_engine(f, \u001b[39mself\u001b[39;49m\u001b[39m.\u001b[39;49mengine)\n",
      "File \u001b[1;32mc:\\Python38\\lib\\site-packages\\pandas\\io\\parsers\\readers.py:1217\u001b[0m, in \u001b[0;36mTextFileReader._make_engine\u001b[1;34m(self, f, engine)\u001b[0m\n\u001b[0;32m   <a href='file:///c%3A/Python38/lib/site-packages/pandas/io/parsers/readers.py?line=1213'>1214</a>\u001b[0m \u001b[39m# error: No overload variant of \"get_handle\" matches argument types\u001b[39;00m\n\u001b[0;32m   <a href='file:///c%3A/Python38/lib/site-packages/pandas/io/parsers/readers.py?line=1214'>1215</a>\u001b[0m \u001b[39m# \"Union[str, PathLike[str], ReadCsvBuffer[bytes], ReadCsvBuffer[str]]\"\u001b[39;00m\n\u001b[0;32m   <a href='file:///c%3A/Python38/lib/site-packages/pandas/io/parsers/readers.py?line=1215'>1216</a>\u001b[0m \u001b[39m# , \"str\", \"bool\", \"Any\", \"Any\", \"Any\", \"Any\", \"Any\"\u001b[39;00m\n\u001b[1;32m-> <a href='file:///c%3A/Python38/lib/site-packages/pandas/io/parsers/readers.py?line=1216'>1217</a>\u001b[0m \u001b[39mself\u001b[39m\u001b[39m.\u001b[39mhandles \u001b[39m=\u001b[39m get_handle(  \u001b[39m# type: ignore[call-overload]\u001b[39;49;00m\n\u001b[0;32m   <a href='file:///c%3A/Python38/lib/site-packages/pandas/io/parsers/readers.py?line=1217'>1218</a>\u001b[0m     f,\n\u001b[0;32m   <a href='file:///c%3A/Python38/lib/site-packages/pandas/io/parsers/readers.py?line=1218'>1219</a>\u001b[0m     mode,\n\u001b[0;32m   <a href='file:///c%3A/Python38/lib/site-packages/pandas/io/parsers/readers.py?line=1219'>1220</a>\u001b[0m     encoding\u001b[39m=\u001b[39;49m\u001b[39mself\u001b[39;49m\u001b[39m.\u001b[39;49moptions\u001b[39m.\u001b[39;49mget(\u001b[39m\"\u001b[39;49m\u001b[39mencoding\u001b[39;49m\u001b[39m\"\u001b[39;49m, \u001b[39mNone\u001b[39;49;00m),\n\u001b[0;32m   <a href='file:///c%3A/Python38/lib/site-packages/pandas/io/parsers/readers.py?line=1220'>1221</a>\u001b[0m     compression\u001b[39m=\u001b[39;49m\u001b[39mself\u001b[39;49m\u001b[39m.\u001b[39;49moptions\u001b[39m.\u001b[39;49mget(\u001b[39m\"\u001b[39;49m\u001b[39mcompression\u001b[39;49m\u001b[39m\"\u001b[39;49m, \u001b[39mNone\u001b[39;49;00m),\n\u001b[0;32m   <a href='file:///c%3A/Python38/lib/site-packages/pandas/io/parsers/readers.py?line=1221'>1222</a>\u001b[0m     memory_map\u001b[39m=\u001b[39;49m\u001b[39mself\u001b[39;49m\u001b[39m.\u001b[39;49moptions\u001b[39m.\u001b[39;49mget(\u001b[39m\"\u001b[39;49m\u001b[39mmemory_map\u001b[39;49m\u001b[39m\"\u001b[39;49m, \u001b[39mFalse\u001b[39;49;00m),\n\u001b[0;32m   <a href='file:///c%3A/Python38/lib/site-packages/pandas/io/parsers/readers.py?line=1222'>1223</a>\u001b[0m     is_text\u001b[39m=\u001b[39;49mis_text,\n\u001b[0;32m   <a href='file:///c%3A/Python38/lib/site-packages/pandas/io/parsers/readers.py?line=1223'>1224</a>\u001b[0m     errors\u001b[39m=\u001b[39;49m\u001b[39mself\u001b[39;49m\u001b[39m.\u001b[39;49moptions\u001b[39m.\u001b[39;49mget(\u001b[39m\"\u001b[39;49m\u001b[39mencoding_errors\u001b[39;49m\u001b[39m\"\u001b[39;49m, \u001b[39m\"\u001b[39;49m\u001b[39mstrict\u001b[39;49m\u001b[39m\"\u001b[39;49m),\n\u001b[0;32m   <a href='file:///c%3A/Python38/lib/site-packages/pandas/io/parsers/readers.py?line=1224'>1225</a>\u001b[0m     storage_options\u001b[39m=\u001b[39;49m\u001b[39mself\u001b[39;49m\u001b[39m.\u001b[39;49moptions\u001b[39m.\u001b[39;49mget(\u001b[39m\"\u001b[39;49m\u001b[39mstorage_options\u001b[39;49m\u001b[39m\"\u001b[39;49m, \u001b[39mNone\u001b[39;49;00m),\n\u001b[0;32m   <a href='file:///c%3A/Python38/lib/site-packages/pandas/io/parsers/readers.py?line=1225'>1226</a>\u001b[0m )\n\u001b[0;32m   <a href='file:///c%3A/Python38/lib/site-packages/pandas/io/parsers/readers.py?line=1226'>1227</a>\u001b[0m \u001b[39massert\u001b[39;00m \u001b[39mself\u001b[39m\u001b[39m.\u001b[39mhandles \u001b[39mis\u001b[39;00m \u001b[39mnot\u001b[39;00m \u001b[39mNone\u001b[39;00m\n",
      "File \u001b[1;32mc:\\Python38\\lib\\site-packages\\pandas\\io\\common.py:789\u001b[0m, in \u001b[0;36mget_handle\u001b[1;34m(path_or_buf, mode, encoding, compression, memory_map, is_text, errors, storage_options)\u001b[0m\n\u001b[0;32m    <a href='file:///c%3A/Python38/lib/site-packages/pandas/io/common.py?line=786'>787</a>\u001b[0m \u001b[39mif\u001b[39;00m ioargs\u001b[39m.\u001b[39mencoding \u001b[39mand\u001b[39;00m \u001b[39m\"\u001b[39m\u001b[39mb\u001b[39m\u001b[39m\"\u001b[39m \u001b[39mnot\u001b[39;00m \u001b[39min\u001b[39;00m ioargs\u001b[39m.\u001b[39mmode:\n\u001b[0;32m    <a href='file:///c%3A/Python38/lib/site-packages/pandas/io/common.py?line=787'>788</a>\u001b[0m     \u001b[39m# Encoding\u001b[39;00m\n\u001b[1;32m--> <a href='file:///c%3A/Python38/lib/site-packages/pandas/io/common.py?line=788'>789</a>\u001b[0m     handle \u001b[39m=\u001b[39m \u001b[39mopen\u001b[39;49m(\n\u001b[0;32m    <a href='file:///c%3A/Python38/lib/site-packages/pandas/io/common.py?line=789'>790</a>\u001b[0m         handle,\n\u001b[0;32m    <a href='file:///c%3A/Python38/lib/site-packages/pandas/io/common.py?line=790'>791</a>\u001b[0m         ioargs\u001b[39m.\u001b[39;49mmode,\n\u001b[0;32m    <a href='file:///c%3A/Python38/lib/site-packages/pandas/io/common.py?line=791'>792</a>\u001b[0m         encoding\u001b[39m=\u001b[39;49mioargs\u001b[39m.\u001b[39;49mencoding,\n\u001b[0;32m    <a href='file:///c%3A/Python38/lib/site-packages/pandas/io/common.py?line=792'>793</a>\u001b[0m         errors\u001b[39m=\u001b[39;49merrors,\n\u001b[0;32m    <a href='file:///c%3A/Python38/lib/site-packages/pandas/io/common.py?line=793'>794</a>\u001b[0m         newline\u001b[39m=\u001b[39;49m\u001b[39m\"\u001b[39;49m\u001b[39m\"\u001b[39;49m,\n\u001b[0;32m    <a href='file:///c%3A/Python38/lib/site-packages/pandas/io/common.py?line=794'>795</a>\u001b[0m     )\n\u001b[0;32m    <a href='file:///c%3A/Python38/lib/site-packages/pandas/io/common.py?line=795'>796</a>\u001b[0m \u001b[39melse\u001b[39;00m:\n\u001b[0;32m    <a href='file:///c%3A/Python38/lib/site-packages/pandas/io/common.py?line=796'>797</a>\u001b[0m     \u001b[39m# Binary mode\u001b[39;00m\n",
      "\u001b[1;31mFileNotFoundError\u001b[0m: [Errno 2] No such file or directory: 'c:\\\\Python38\\\\lib\\\\site-packages\\\\aif360\\\\datasets\\\\..\\\\data\\\\raw\\\\german\\\\german.data'",
      "\nDuring handling of the above exception, another exception occurred:\n",
      "\u001b[1;31mSystemExit\u001b[0m                                Traceback (most recent call last)",
      "    \u001b[1;31m[... skipping hidden 1 frame]\u001b[0m\n",
      "\u001b[1;32md:\\GitHub\\PyDevelopment\\credit_decision.ipynb Cell 7'\u001b[0m in \u001b[0;36m<cell line: 1>\u001b[1;34m()\u001b[0m\n\u001b[1;32m----> <a href='vscode-notebook-cell:/d%3A/GitHub/PyDevelopment/credit_decision.ipynb#ch0000006?line=0'>1</a>\u001b[0m dataset_orig \u001b[39m=\u001b[39m GermanDataset(protected_attribute_names\u001b[39m=\u001b[39;49m[\u001b[39m'\u001b[39;49m\u001b[39mage\u001b[39;49m\u001b[39m'\u001b[39;49m],\n\u001b[0;32m      <a href='vscode-notebook-cell:/d%3A/GitHub/PyDevelopment/credit_decision.ipynb#ch0000006?line=1'>2</a>\u001b[0m privileged_classes\u001b[39m=\u001b[39;49m[\u001b[39mlambda\u001b[39;49;00m x: x \u001b[39m>\u001b[39;49m\u001b[39m=\u001b[39;49m \u001b[39m25\u001b[39;49m],\n\u001b[0;32m      <a href='vscode-notebook-cell:/d%3A/GitHub/PyDevelopment/credit_decision.ipynb#ch0000006?line=2'>3</a>\u001b[0m features_to_drop\u001b[39m=\u001b[39;49m[\u001b[39m'\u001b[39;49m\u001b[39mpersonal_status\u001b[39;49m\u001b[39m'\u001b[39;49m, \u001b[39m'\u001b[39;49m\u001b[39msex\u001b[39;49m\u001b[39m'\u001b[39;49m])\n\u001b[0;32m      <a href='vscode-notebook-cell:/d%3A/GitHub/PyDevelopment/credit_decision.ipynb#ch0000006?line=4'>5</a>\u001b[0m dataset_orig_train, dataset_orig_test \u001b[39m=\u001b[39m dataset_orig\u001b[39m.\u001b[39msplit([\u001b[39m0.7\u001b[39m], shuffle\u001b[39m=\u001b[39m\u001b[39mTrue\u001b[39;00m)\n",
      "File \u001b[1;32mc:\\Python38\\lib\\site-packages\\aif360\\datasets\\german_dataset.py:89\u001b[0m, in \u001b[0;36mGermanDataset.__init__\u001b[1;34m(self, label_name, favorable_classes, protected_attribute_names, privileged_classes, instance_weights_name, categorical_features, features_to_keep, features_to_drop, na_values, custom_preprocessing, metadata)\u001b[0m\n\u001b[0;32m     <a href='file:///c%3A/Python38/lib/site-packages/aif360/datasets/german_dataset.py?line=87'>88</a>\u001b[0m     \u001b[39mimport\u001b[39;00m \u001b[39msys\u001b[39;00m\n\u001b[1;32m---> <a href='file:///c%3A/Python38/lib/site-packages/aif360/datasets/german_dataset.py?line=88'>89</a>\u001b[0m     sys\u001b[39m.\u001b[39;49mexit(\u001b[39m1\u001b[39;49m)\n\u001b[0;32m     <a href='file:///c%3A/Python38/lib/site-packages/aif360/datasets/german_dataset.py?line=90'>91</a>\u001b[0m \u001b[39msuper\u001b[39m(GermanDataset, \u001b[39mself\u001b[39m)\u001b[39m.\u001b[39m\u001b[39m__init__\u001b[39m(df\u001b[39m=\u001b[39mdf, label_name\u001b[39m=\u001b[39mlabel_name,\n\u001b[0;32m     <a href='file:///c%3A/Python38/lib/site-packages/aif360/datasets/german_dataset.py?line=91'>92</a>\u001b[0m     favorable_classes\u001b[39m=\u001b[39mfavorable_classes,\n\u001b[0;32m     <a href='file:///c%3A/Python38/lib/site-packages/aif360/datasets/german_dataset.py?line=92'>93</a>\u001b[0m     protected_attribute_names\u001b[39m=\u001b[39mprotected_attribute_names,\n\u001b[1;32m   (...)\u001b[0m\n\u001b[0;32m     <a href='file:///c%3A/Python38/lib/site-packages/aif360/datasets/german_dataset.py?line=97'>98</a>\u001b[0m     features_to_drop\u001b[39m=\u001b[39mfeatures_to_drop, na_values\u001b[39m=\u001b[39mna_values,\n\u001b[0;32m     <a href='file:///c%3A/Python38/lib/site-packages/aif360/datasets/german_dataset.py?line=98'>99</a>\u001b[0m     custom_preprocessing\u001b[39m=\u001b[39mcustom_preprocessing, metadata\u001b[39m=\u001b[39mmetadata)\n",
      "\u001b[1;31mSystemExit\u001b[0m: 1",
      "\nDuring handling of the above exception, another exception occurred:\n",
      "\u001b[1;31mAssertionError\u001b[0m                            Traceback (most recent call last)",
      "    \u001b[1;31m[... skipping hidden 1 frame]\u001b[0m\n",
      "File \u001b[1;32mc:\\Python38\\lib\\site-packages\\IPython\\core\\interactiveshell.py:1983\u001b[0m, in \u001b[0;36mInteractiveShell.showtraceback\u001b[1;34m(self, exc_tuple, filename, tb_offset, exception_only, running_compiled_code)\u001b[0m\n\u001b[0;32m   <a href='file:///c%3A/Python38/lib/site-packages/IPython/core/interactiveshell.py?line=1979'>1980</a>\u001b[0m \u001b[39mif\u001b[39;00m exception_only:\n\u001b[0;32m   <a href='file:///c%3A/Python38/lib/site-packages/IPython/core/interactiveshell.py?line=1980'>1981</a>\u001b[0m     stb \u001b[39m=\u001b[39m [\u001b[39m'\u001b[39m\u001b[39mAn exception has occurred, use \u001b[39m\u001b[39m%\u001b[39m\u001b[39mtb to see \u001b[39m\u001b[39m'\u001b[39m\n\u001b[0;32m   <a href='file:///c%3A/Python38/lib/site-packages/IPython/core/interactiveshell.py?line=1981'>1982</a>\u001b[0m            \u001b[39m'\u001b[39m\u001b[39mthe full traceback.\u001b[39m\u001b[39m\\n\u001b[39;00m\u001b[39m'\u001b[39m]\n\u001b[1;32m-> <a href='file:///c%3A/Python38/lib/site-packages/IPython/core/interactiveshell.py?line=1982'>1983</a>\u001b[0m     stb\u001b[39m.\u001b[39mextend(\u001b[39mself\u001b[39;49m\u001b[39m.\u001b[39;49mInteractiveTB\u001b[39m.\u001b[39;49mget_exception_only(etype,\n\u001b[0;32m   <a href='file:///c%3A/Python38/lib/site-packages/IPython/core/interactiveshell.py?line=1983'>1984</a>\u001b[0m                                                      value))\n\u001b[0;32m   <a href='file:///c%3A/Python38/lib/site-packages/IPython/core/interactiveshell.py?line=1984'>1985</a>\u001b[0m \u001b[39melse\u001b[39;00m:\n\u001b[0;32m   <a href='file:///c%3A/Python38/lib/site-packages/IPython/core/interactiveshell.py?line=1985'>1986</a>\u001b[0m     \u001b[39mtry\u001b[39;00m:\n\u001b[0;32m   <a href='file:///c%3A/Python38/lib/site-packages/IPython/core/interactiveshell.py?line=1986'>1987</a>\u001b[0m         \u001b[39m# Exception classes can customise their traceback - we\u001b[39;00m\n\u001b[0;32m   <a href='file:///c%3A/Python38/lib/site-packages/IPython/core/interactiveshell.py?line=1987'>1988</a>\u001b[0m         \u001b[39m# use this in IPython.parallel for exceptions occurring\u001b[39;00m\n\u001b[0;32m   <a href='file:///c%3A/Python38/lib/site-packages/IPython/core/interactiveshell.py?line=1988'>1989</a>\u001b[0m         \u001b[39m# in the engines. This should return a list of strings.\u001b[39;00m\n",
      "File \u001b[1;32mc:\\Python38\\lib\\site-packages\\IPython\\core\\ultratb.py:585\u001b[0m, in \u001b[0;36mListTB.get_exception_only\u001b[1;34m(self, etype, value)\u001b[0m\n\u001b[0;32m    <a href='file:///c%3A/Python38/lib/site-packages/IPython/core/ultratb.py?line=576'>577</a>\u001b[0m \u001b[39mdef\u001b[39;00m \u001b[39mget_exception_only\u001b[39m(\u001b[39mself\u001b[39m, etype, value):\n\u001b[0;32m    <a href='file:///c%3A/Python38/lib/site-packages/IPython/core/ultratb.py?line=577'>578</a>\u001b[0m     \u001b[39m\"\"\"Only print the exception type and message, without a traceback.\u001b[39;00m\n\u001b[0;32m    <a href='file:///c%3A/Python38/lib/site-packages/IPython/core/ultratb.py?line=578'>579</a>\u001b[0m \n\u001b[0;32m    <a href='file:///c%3A/Python38/lib/site-packages/IPython/core/ultratb.py?line=579'>580</a>\u001b[0m \u001b[39m    Parameters\u001b[39;00m\n\u001b[1;32m   (...)\u001b[0m\n\u001b[0;32m    <a href='file:///c%3A/Python38/lib/site-packages/IPython/core/ultratb.py?line=582'>583</a>\u001b[0m \u001b[39m    value : exception value\u001b[39;00m\n\u001b[0;32m    <a href='file:///c%3A/Python38/lib/site-packages/IPython/core/ultratb.py?line=583'>584</a>\u001b[0m \u001b[39m    \"\"\"\u001b[39;00m\n\u001b[1;32m--> <a href='file:///c%3A/Python38/lib/site-packages/IPython/core/ultratb.py?line=584'>585</a>\u001b[0m     \u001b[39mreturn\u001b[39;00m ListTB\u001b[39m.\u001b[39;49mstructured_traceback(\u001b[39mself\u001b[39;49m, etype, value)\n",
      "File \u001b[1;32mc:\\Python38\\lib\\site-packages\\IPython\\core\\ultratb.py:443\u001b[0m, in \u001b[0;36mListTB.structured_traceback\u001b[1;34m(self, etype, evalue, etb, tb_offset, context)\u001b[0m\n\u001b[0;32m    <a href='file:///c%3A/Python38/lib/site-packages/IPython/core/ultratb.py?line=439'>440</a>\u001b[0m     chained_exc_ids\u001b[39m.\u001b[39madd(\u001b[39mid\u001b[39m(exception[\u001b[39m1\u001b[39m]))\n\u001b[0;32m    <a href='file:///c%3A/Python38/lib/site-packages/IPython/core/ultratb.py?line=440'>441</a>\u001b[0m     chained_exceptions_tb_offset \u001b[39m=\u001b[39m \u001b[39m0\u001b[39m\n\u001b[0;32m    <a href='file:///c%3A/Python38/lib/site-packages/IPython/core/ultratb.py?line=441'>442</a>\u001b[0m     out_list \u001b[39m=\u001b[39m (\n\u001b[1;32m--> <a href='file:///c%3A/Python38/lib/site-packages/IPython/core/ultratb.py?line=442'>443</a>\u001b[0m         \u001b[39mself\u001b[39;49m\u001b[39m.\u001b[39;49mstructured_traceback(\n\u001b[0;32m    <a href='file:///c%3A/Python38/lib/site-packages/IPython/core/ultratb.py?line=443'>444</a>\u001b[0m             etype, evalue, (etb, chained_exc_ids),\n\u001b[0;32m    <a href='file:///c%3A/Python38/lib/site-packages/IPython/core/ultratb.py?line=444'>445</a>\u001b[0m             chained_exceptions_tb_offset, context)\n\u001b[0;32m    <a href='file:///c%3A/Python38/lib/site-packages/IPython/core/ultratb.py?line=445'>446</a>\u001b[0m         \u001b[39m+\u001b[39m chained_exception_message\n\u001b[0;32m    <a href='file:///c%3A/Python38/lib/site-packages/IPython/core/ultratb.py?line=446'>447</a>\u001b[0m         \u001b[39m+\u001b[39m out_list)\n\u001b[0;32m    <a href='file:///c%3A/Python38/lib/site-packages/IPython/core/ultratb.py?line=448'>449</a>\u001b[0m \u001b[39mreturn\u001b[39;00m out_list\n",
      "File \u001b[1;32mc:\\Python38\\lib\\site-packages\\IPython\\core\\ultratb.py:1118\u001b[0m, in \u001b[0;36mAutoFormattedTB.structured_traceback\u001b[1;34m(self, etype, value, tb, tb_offset, number_of_lines_of_context)\u001b[0m\n\u001b[0;32m   <a href='file:///c%3A/Python38/lib/site-packages/IPython/core/ultratb.py?line=1115'>1116</a>\u001b[0m \u001b[39melse\u001b[39;00m:\n\u001b[0;32m   <a href='file:///c%3A/Python38/lib/site-packages/IPython/core/ultratb.py?line=1116'>1117</a>\u001b[0m     \u001b[39mself\u001b[39m\u001b[39m.\u001b[39mtb \u001b[39m=\u001b[39m tb\n\u001b[1;32m-> <a href='file:///c%3A/Python38/lib/site-packages/IPython/core/ultratb.py?line=1117'>1118</a>\u001b[0m \u001b[39mreturn\u001b[39;00m FormattedTB\u001b[39m.\u001b[39;49mstructured_traceback(\n\u001b[0;32m   <a href='file:///c%3A/Python38/lib/site-packages/IPython/core/ultratb.py?line=1118'>1119</a>\u001b[0m     \u001b[39mself\u001b[39;49m, etype, value, tb, tb_offset, number_of_lines_of_context)\n",
      "File \u001b[1;32mc:\\Python38\\lib\\site-packages\\IPython\\core\\ultratb.py:1012\u001b[0m, in \u001b[0;36mFormattedTB.structured_traceback\u001b[1;34m(self, etype, value, tb, tb_offset, number_of_lines_of_context)\u001b[0m\n\u001b[0;32m   <a href='file:///c%3A/Python38/lib/site-packages/IPython/core/ultratb.py?line=1008'>1009</a>\u001b[0m mode \u001b[39m=\u001b[39m \u001b[39mself\u001b[39m\u001b[39m.\u001b[39mmode\n\u001b[0;32m   <a href='file:///c%3A/Python38/lib/site-packages/IPython/core/ultratb.py?line=1009'>1010</a>\u001b[0m \u001b[39mif\u001b[39;00m mode \u001b[39min\u001b[39;00m \u001b[39mself\u001b[39m\u001b[39m.\u001b[39mverbose_modes:\n\u001b[0;32m   <a href='file:///c%3A/Python38/lib/site-packages/IPython/core/ultratb.py?line=1010'>1011</a>\u001b[0m     \u001b[39m# Verbose modes need a full traceback\u001b[39;00m\n\u001b[1;32m-> <a href='file:///c%3A/Python38/lib/site-packages/IPython/core/ultratb.py?line=1011'>1012</a>\u001b[0m     \u001b[39mreturn\u001b[39;00m VerboseTB\u001b[39m.\u001b[39;49mstructured_traceback(\n\u001b[0;32m   <a href='file:///c%3A/Python38/lib/site-packages/IPython/core/ultratb.py?line=1012'>1013</a>\u001b[0m         \u001b[39mself\u001b[39;49m, etype, value, tb, tb_offset, number_of_lines_of_context\n\u001b[0;32m   <a href='file:///c%3A/Python38/lib/site-packages/IPython/core/ultratb.py?line=1013'>1014</a>\u001b[0m     )\n\u001b[0;32m   <a href='file:///c%3A/Python38/lib/site-packages/IPython/core/ultratb.py?line=1014'>1015</a>\u001b[0m \u001b[39melif\u001b[39;00m mode \u001b[39m==\u001b[39m \u001b[39m'\u001b[39m\u001b[39mMinimal\u001b[39m\u001b[39m'\u001b[39m:\n\u001b[0;32m   <a href='file:///c%3A/Python38/lib/site-packages/IPython/core/ultratb.py?line=1015'>1016</a>\u001b[0m     \u001b[39mreturn\u001b[39;00m ListTB\u001b[39m.\u001b[39mget_exception_only(\u001b[39mself\u001b[39m, etype, value)\n",
      "File \u001b[1;32mc:\\Python38\\lib\\site-packages\\IPython\\core\\ultratb.py:865\u001b[0m, in \u001b[0;36mVerboseTB.structured_traceback\u001b[1;34m(self, etype, evalue, etb, tb_offset, number_of_lines_of_context)\u001b[0m\n\u001b[0;32m    <a href='file:///c%3A/Python38/lib/site-packages/IPython/core/ultratb.py?line=855'>856</a>\u001b[0m \u001b[39mdef\u001b[39;00m \u001b[39mstructured_traceback\u001b[39m(\n\u001b[0;32m    <a href='file:///c%3A/Python38/lib/site-packages/IPython/core/ultratb.py?line=856'>857</a>\u001b[0m     \u001b[39mself\u001b[39m,\n\u001b[0;32m    <a href='file:///c%3A/Python38/lib/site-packages/IPython/core/ultratb.py?line=857'>858</a>\u001b[0m     etype: \u001b[39mtype\u001b[39m,\n\u001b[1;32m   (...)\u001b[0m\n\u001b[0;32m    <a href='file:///c%3A/Python38/lib/site-packages/IPython/core/ultratb.py?line=861'>862</a>\u001b[0m     number_of_lines_of_context: \u001b[39mint\u001b[39m \u001b[39m=\u001b[39m \u001b[39m5\u001b[39m,\n\u001b[0;32m    <a href='file:///c%3A/Python38/lib/site-packages/IPython/core/ultratb.py?line=862'>863</a>\u001b[0m ):\n\u001b[0;32m    <a href='file:///c%3A/Python38/lib/site-packages/IPython/core/ultratb.py?line=863'>864</a>\u001b[0m     \u001b[39m\"\"\"Return a nice text document describing the traceback.\"\"\"\u001b[39;00m\n\u001b[1;32m--> <a href='file:///c%3A/Python38/lib/site-packages/IPython/core/ultratb.py?line=864'>865</a>\u001b[0m     formatted_exception \u001b[39m=\u001b[39m \u001b[39mself\u001b[39;49m\u001b[39m.\u001b[39;49mformat_exception_as_a_whole(etype, evalue, etb, number_of_lines_of_context,\n\u001b[0;32m    <a href='file:///c%3A/Python38/lib/site-packages/IPython/core/ultratb.py?line=865'>866</a>\u001b[0m                                                            tb_offset)\n\u001b[0;32m    <a href='file:///c%3A/Python38/lib/site-packages/IPython/core/ultratb.py?line=867'>868</a>\u001b[0m     colors \u001b[39m=\u001b[39m \u001b[39mself\u001b[39m\u001b[39m.\u001b[39mColors  \u001b[39m# just a shorthand + quicker name lookup\u001b[39;00m\n\u001b[0;32m    <a href='file:///c%3A/Python38/lib/site-packages/IPython/core/ultratb.py?line=868'>869</a>\u001b[0m     colorsnormal \u001b[39m=\u001b[39m colors\u001b[39m.\u001b[39mNormal  \u001b[39m# used a lot\u001b[39;00m\n",
      "File \u001b[1;32mc:\\Python38\\lib\\site-packages\\IPython\\core\\ultratb.py:799\u001b[0m, in \u001b[0;36mVerboseTB.format_exception_as_a_whole\u001b[1;34m(self, etype, evalue, etb, number_of_lines_of_context, tb_offset)\u001b[0m\n\u001b[0;32m    <a href='file:///c%3A/Python38/lib/site-packages/IPython/core/ultratb.py?line=795'>796</a>\u001b[0m \u001b[39massert\u001b[39;00m \u001b[39misinstance\u001b[39m(tb_offset, \u001b[39mint\u001b[39m)\n\u001b[0;32m    <a href='file:///c%3A/Python38/lib/site-packages/IPython/core/ultratb.py?line=796'>797</a>\u001b[0m head \u001b[39m=\u001b[39m \u001b[39mself\u001b[39m\u001b[39m.\u001b[39mprepare_header(etype, \u001b[39mself\u001b[39m\u001b[39m.\u001b[39mlong_header)\n\u001b[0;32m    <a href='file:///c%3A/Python38/lib/site-packages/IPython/core/ultratb.py?line=797'>798</a>\u001b[0m records \u001b[39m=\u001b[39m (\n\u001b[1;32m--> <a href='file:///c%3A/Python38/lib/site-packages/IPython/core/ultratb.py?line=798'>799</a>\u001b[0m     \u001b[39mself\u001b[39;49m\u001b[39m.\u001b[39;49mget_records(etb, number_of_lines_of_context, tb_offset) \u001b[39mif\u001b[39;00m etb \u001b[39melse\u001b[39;00m []\n\u001b[0;32m    <a href='file:///c%3A/Python38/lib/site-packages/IPython/core/ultratb.py?line=799'>800</a>\u001b[0m )\n\u001b[0;32m    <a href='file:///c%3A/Python38/lib/site-packages/IPython/core/ultratb.py?line=801'>802</a>\u001b[0m frames \u001b[39m=\u001b[39m []\n\u001b[0;32m    <a href='file:///c%3A/Python38/lib/site-packages/IPython/core/ultratb.py?line=802'>803</a>\u001b[0m skipped \u001b[39m=\u001b[39m \u001b[39m0\u001b[39m\n",
      "File \u001b[1;32mc:\\Python38\\lib\\site-packages\\IPython\\core\\ultratb.py:854\u001b[0m, in \u001b[0;36mVerboseTB.get_records\u001b[1;34m(self, etb, number_of_lines_of_context, tb_offset)\u001b[0m\n\u001b[0;32m    <a href='file:///c%3A/Python38/lib/site-packages/IPython/core/ultratb.py?line=847'>848</a>\u001b[0m     formatter \u001b[39m=\u001b[39m \u001b[39mNone\u001b[39;00m\n\u001b[0;32m    <a href='file:///c%3A/Python38/lib/site-packages/IPython/core/ultratb.py?line=848'>849</a>\u001b[0m options \u001b[39m=\u001b[39m stack_data\u001b[39m.\u001b[39mOptions(\n\u001b[0;32m    <a href='file:///c%3A/Python38/lib/site-packages/IPython/core/ultratb.py?line=849'>850</a>\u001b[0m     before\u001b[39m=\u001b[39mbefore,\n\u001b[0;32m    <a href='file:///c%3A/Python38/lib/site-packages/IPython/core/ultratb.py?line=850'>851</a>\u001b[0m     after\u001b[39m=\u001b[39mafter,\n\u001b[0;32m    <a href='file:///c%3A/Python38/lib/site-packages/IPython/core/ultratb.py?line=851'>852</a>\u001b[0m     pygments_formatter\u001b[39m=\u001b[39mformatter,\n\u001b[0;32m    <a href='file:///c%3A/Python38/lib/site-packages/IPython/core/ultratb.py?line=852'>853</a>\u001b[0m )\n\u001b[1;32m--> <a href='file:///c%3A/Python38/lib/site-packages/IPython/core/ultratb.py?line=853'>854</a>\u001b[0m \u001b[39mreturn\u001b[39;00m \u001b[39mlist\u001b[39;49m(stack_data\u001b[39m.\u001b[39;49mFrameInfo\u001b[39m.\u001b[39;49mstack_data(etb, options\u001b[39m=\u001b[39;49moptions))[tb_offset:]\n",
      "File \u001b[1;32mc:\\Python38\\lib\\site-packages\\stack_data\\core.py:546\u001b[0m, in \u001b[0;36mFrameInfo.stack_data\u001b[1;34m(cls, frame_or_tb, options, collapse_repeated_frames)\u001b[0m\n\u001b[0;32m    <a href='file:///c%3A/Python38/lib/site-packages/stack_data/core.py?line=529'>530</a>\u001b[0m \u001b[39m@classmethod\u001b[39m\n\u001b[0;32m    <a href='file:///c%3A/Python38/lib/site-packages/stack_data/core.py?line=530'>531</a>\u001b[0m \u001b[39mdef\u001b[39;00m \u001b[39mstack_data\u001b[39m(\n\u001b[0;32m    <a href='file:///c%3A/Python38/lib/site-packages/stack_data/core.py?line=531'>532</a>\u001b[0m         \u001b[39mcls\u001b[39m,\n\u001b[1;32m   (...)\u001b[0m\n\u001b[0;32m    <a href='file:///c%3A/Python38/lib/site-packages/stack_data/core.py?line=535'>536</a>\u001b[0m         collapse_repeated_frames: \u001b[39mbool\u001b[39m \u001b[39m=\u001b[39m \u001b[39mTrue\u001b[39;00m\n\u001b[0;32m    <a href='file:///c%3A/Python38/lib/site-packages/stack_data/core.py?line=536'>537</a>\u001b[0m ) \u001b[39m-\u001b[39m\u001b[39m>\u001b[39m Iterator[Union[\u001b[39m'\u001b[39m\u001b[39mFrameInfo\u001b[39m\u001b[39m'\u001b[39m, RepeatedFrames]]:\n\u001b[0;32m    <a href='file:///c%3A/Python38/lib/site-packages/stack_data/core.py?line=537'>538</a>\u001b[0m     \u001b[39m\"\"\"\u001b[39;00m\n\u001b[0;32m    <a href='file:///c%3A/Python38/lib/site-packages/stack_data/core.py?line=538'>539</a>\u001b[0m \u001b[39m    An iterator of FrameInfo and RepeatedFrames objects representing\u001b[39;00m\n\u001b[0;32m    <a href='file:///c%3A/Python38/lib/site-packages/stack_data/core.py?line=539'>540</a>\u001b[0m \u001b[39m    a full traceback or stack. Similar consecutive frames are collapsed into RepeatedFrames\u001b[39;00m\n\u001b[1;32m   (...)\u001b[0m\n\u001b[0;32m    <a href='file:///c%3A/Python38/lib/site-packages/stack_data/core.py?line=543'>544</a>\u001b[0m \u001b[39m    and optionally an Options object to configure.\u001b[39;00m\n\u001b[0;32m    <a href='file:///c%3A/Python38/lib/site-packages/stack_data/core.py?line=544'>545</a>\u001b[0m \u001b[39m    \"\"\"\u001b[39;00m\n\u001b[1;32m--> <a href='file:///c%3A/Python38/lib/site-packages/stack_data/core.py?line=545'>546</a>\u001b[0m     stack \u001b[39m=\u001b[39m \u001b[39mlist\u001b[39;49m(iter_stack(frame_or_tb))\n\u001b[0;32m    <a href='file:///c%3A/Python38/lib/site-packages/stack_data/core.py?line=547'>548</a>\u001b[0m     \u001b[39m# Reverse the stack from a frame so that it's in the same order\u001b[39;00m\n\u001b[0;32m    <a href='file:///c%3A/Python38/lib/site-packages/stack_data/core.py?line=548'>549</a>\u001b[0m     \u001b[39m# as the order from a traceback, which is the order of a printed\u001b[39;00m\n\u001b[0;32m    <a href='file:///c%3A/Python38/lib/site-packages/stack_data/core.py?line=549'>550</a>\u001b[0m     \u001b[39m# traceback when read top to bottom (most recent call last)\u001b[39;00m\n\u001b[0;32m    <a href='file:///c%3A/Python38/lib/site-packages/stack_data/core.py?line=550'>551</a>\u001b[0m     \u001b[39mif\u001b[39;00m is_frame(frame_or_tb):\n",
      "File \u001b[1;32mc:\\Python38\\lib\\site-packages\\stack_data\\utils.py:98\u001b[0m, in \u001b[0;36miter_stack\u001b[1;34m(frame_or_tb)\u001b[0m\n\u001b[0;32m     <a href='file:///c%3A/Python38/lib/site-packages/stack_data/utils.py?line=95'>96</a>\u001b[0m \u001b[39mwhile\u001b[39;00m frame_or_tb:\n\u001b[0;32m     <a href='file:///c%3A/Python38/lib/site-packages/stack_data/utils.py?line=96'>97</a>\u001b[0m     \u001b[39myield\u001b[39;00m frame_or_tb\n\u001b[1;32m---> <a href='file:///c%3A/Python38/lib/site-packages/stack_data/utils.py?line=97'>98</a>\u001b[0m     \u001b[39mif\u001b[39;00m is_frame(frame_or_tb):\n\u001b[0;32m     <a href='file:///c%3A/Python38/lib/site-packages/stack_data/utils.py?line=98'>99</a>\u001b[0m         frame_or_tb \u001b[39m=\u001b[39m frame_or_tb\u001b[39m.\u001b[39mf_back\n\u001b[0;32m    <a href='file:///c%3A/Python38/lib/site-packages/stack_data/utils.py?line=99'>100</a>\u001b[0m     \u001b[39melse\u001b[39;00m:\n",
      "File \u001b[1;32mc:\\Python38\\lib\\site-packages\\stack_data\\utils.py:91\u001b[0m, in \u001b[0;36mis_frame\u001b[1;34m(frame_or_tb)\u001b[0m\n\u001b[0;32m     <a href='file:///c%3A/Python38/lib/site-packages/stack_data/utils.py?line=89'>90</a>\u001b[0m \u001b[39mdef\u001b[39;00m \u001b[39mis_frame\u001b[39m(frame_or_tb: Union[FrameType, TracebackType]) \u001b[39m-\u001b[39m\u001b[39m>\u001b[39m \u001b[39mbool\u001b[39m:\n\u001b[1;32m---> <a href='file:///c%3A/Python38/lib/site-packages/stack_data/utils.py?line=90'>91</a>\u001b[0m     assert_(\u001b[39misinstance\u001b[39;49m(frame_or_tb, (types\u001b[39m.\u001b[39;49mFrameType, types\u001b[39m.\u001b[39;49mTracebackType)))\n\u001b[0;32m     <a href='file:///c%3A/Python38/lib/site-packages/stack_data/utils.py?line=91'>92</a>\u001b[0m     \u001b[39mreturn\u001b[39;00m \u001b[39misinstance\u001b[39m(frame_or_tb, (types\u001b[39m.\u001b[39mFrameType,))\n",
      "File \u001b[1;32mc:\\Python38\\lib\\site-packages\\stack_data\\utils.py:172\u001b[0m, in \u001b[0;36massert_\u001b[1;34m(condition, error)\u001b[0m\n\u001b[0;32m    <a href='file:///c%3A/Python38/lib/site-packages/stack_data/utils.py?line=169'>170</a>\u001b[0m \u001b[39mif\u001b[39;00m \u001b[39misinstance\u001b[39m(error, \u001b[39mstr\u001b[39m):\n\u001b[0;32m    <a href='file:///c%3A/Python38/lib/site-packages/stack_data/utils.py?line=170'>171</a>\u001b[0m     error \u001b[39m=\u001b[39m \u001b[39mAssertionError\u001b[39;00m(error)\n\u001b[1;32m--> <a href='file:///c%3A/Python38/lib/site-packages/stack_data/utils.py?line=171'>172</a>\u001b[0m \u001b[39mraise\u001b[39;00m error\n",
      "\u001b[1;31mAssertionError\u001b[0m: "
     ]
    }
   ],
   "source": [
    "dataset_orig = GermanDataset(protected_attribute_names=['age'],\n",
    "privileged_classes=[lambda x: x >= 25],\n",
    "features_to_drop=['personal_status', 'sex'])\n",
    "\n",
    "dataset_orig_train, dataset_orig_test = dataset_orig.split([0.7], shuffle=True)\n",
    "\n",
    "privileged_groups = [{'age': 1}]\n",
    "unprivileged_groups = [{'age': 0}]"
   ]
  },
  {
   "cell_type": "code",
   "execution_count": 11,
   "metadata": {},
   "outputs": [
    {
     "ename": "NameError",
     "evalue": "name 'dataset_orig_train' is not defined",
     "output_type": "error",
     "traceback": [
      "\u001b[1;31m---------------------------------------------------------------------------\u001b[0m",
      "\u001b[1;31mNameError\u001b[0m                                 Traceback (most recent call last)",
      "\u001b[1;32md:\\GitHub\\PyDevelopment\\credit_decision.ipynb Cell 8'\u001b[0m in \u001b[0;36m<cell line: 1>\u001b[1;34m()\u001b[0m\n\u001b[1;32m----> <a href='vscode-notebook-cell:/d%3A/GitHub/PyDevelopment/credit_decision.ipynb#ch0000007?line=0'>1</a>\u001b[0m metric_orig_train \u001b[39m=\u001b[39m BinaryLabelDatasetMetric(dataset_orig_train, \n\u001b[0;32m      <a href='vscode-notebook-cell:/d%3A/GitHub/PyDevelopment/credit_decision.ipynb#ch0000007?line=1'>2</a>\u001b[0m                                              unprivileged_groups\u001b[39m=\u001b[39munprivileged_groups,\n\u001b[0;32m      <a href='vscode-notebook-cell:/d%3A/GitHub/PyDevelopment/credit_decision.ipynb#ch0000007?line=2'>3</a>\u001b[0m                                              privileged_groups\u001b[39m=\u001b[39mprivileged_groups)\n\u001b[0;32m      <a href='vscode-notebook-cell:/d%3A/GitHub/PyDevelopment/credit_decision.ipynb#ch0000007?line=3'>4</a>\u001b[0m display(Markdown(\u001b[39m\"\u001b[39m\u001b[39m#### Original training dataset\u001b[39m\u001b[39m\"\u001b[39m))\n\u001b[0;32m      <a href='vscode-notebook-cell:/d%3A/GitHub/PyDevelopment/credit_decision.ipynb#ch0000007?line=4'>5</a>\u001b[0m \u001b[39mprint\u001b[39m(\u001b[39m\"\u001b[39m\u001b[39mDifference in mean outcomes between unprivileged and privileged groups = \u001b[39m\u001b[39m%f\u001b[39;00m\u001b[39m\"\u001b[39m \u001b[39m%\u001b[39m metric_orig_train\u001b[39m.\u001b[39mmean_difference())\n",
      "\u001b[1;31mNameError\u001b[0m: name 'dataset_orig_train' is not defined"
     ]
    }
   ],
   "source": [
    "metric_orig_train = BinaryLabelDatasetMetric(dataset_orig_train, \n",
    "                                             unprivileged_groups=unprivileged_groups,\n",
    "                                             privileged_groups=privileged_groups)\n",
    "display(Markdown(\"#### Original training dataset\"))\n",
    "print(\"Difference in mean outcomes between unprivileged and privileged groups = %f\" % metric_orig_train.mean_difference())"
   ]
  },
  {
   "cell_type": "code",
   "execution_count": null,
   "metadata": {},
   "outputs": [],
   "source": [
    "RW = Reweighing(unprivileged_groups=unprivileged_groups,\n",
    "                privileged_groups=privileged_groups)\n",
    "dataset_transf_train = RW.fit_transform(dataset_orig_train)"
   ]
  },
  {
   "cell_type": "code",
   "execution_count": null,
   "metadata": {},
   "outputs": [],
   "source": [
    "metric_transf_train = BinaryLabelDatasetMetric(dataset_transf_train, \n",
    "                                               unprivileged_groups=unprivileged_groups,\n",
    "                                               privileged_groups=privileged_groups)\n",
    "display(Markdown(\"#### Transformed training dataset\"))\n",
    "print(\"Difference in mean outcomes between unprivileged and privileged groups = %f\" % metric_transf_train.mean_difference())"
   ]
  }
 ],
 "metadata": {
  "interpreter": {
   "hash": "9650cb4e16cdd4a8e8e2d128bf38d875813998db22a3c986335f89e0cb4d7bb2"
  },
  "kernelspec": {
   "display_name": "Python 3.8.10 64-bit",
   "language": "python",
   "name": "python3"
  },
  "language_info": {
   "codemirror_mode": {
    "name": "ipython",
    "version": 3
   },
   "file_extension": ".py",
   "mimetype": "text/x-python",
   "name": "python",
   "nbconvert_exporter": "python",
   "pygments_lexer": "ipython3",
   "version": "3.8.10"
  },
  "orig_nbformat": 4
 },
 "nbformat": 4,
 "nbformat_minor": 2
}
