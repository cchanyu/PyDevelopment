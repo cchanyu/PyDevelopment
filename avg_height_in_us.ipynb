{
 "cells": [
  {
   "cell_type": "code",
   "execution_count": 14,
   "metadata": {},
   "outputs": [],
   "source": [
    "import matplotlib.pyplot as plt\n",
    "import numpy as np\n",
    "import pandas as pd\n",
    "\n",
    "from sklearn.linear_model import LogisticRegression\n",
    "from sklearn.metrics import accuracy_score\n",
    "from sklearn.model_selection import GridSearchCV, train_test_split\n",
    "from sklearn.preprocessing import OneHotEncoder"
   ]
  },
  {
   "cell_type": "code",
   "execution_count": 15,
   "metadata": {},
   "outputs": [
    {
     "name": "stdout",
     "output_type": "stream",
     "text": [
      "Requirement already satisfied: aif360 in c:\\python38\\lib\\site-packages (0.4.0)\n",
      "Requirement already satisfied: tempeh in c:\\python38\\lib\\site-packages (from aif360) (0.1.12)\n",
      "Requirement already satisfied: scikit-learn>=0.22.1 in c:\\python38\\lib\\site-packages (from aif360) (1.1.1)\n",
      "Requirement already satisfied: matplotlib in c:\\python38\\lib\\site-packages (from aif360) (3.5.2)\n",
      "Requirement already satisfied: scipy<1.6.0,>=1.2.0 in c:\\python38\\lib\\site-packages (from aif360) (1.5.4)\n",
      "Requirement already satisfied: numpy>=1.16 in c:\\python38\\lib\\site-packages (from aif360) (1.22.4)\n",
      "Requirement already satisfied: pandas>=0.24.0 in c:\\python38\\lib\\site-packages (from aif360) (1.4.2)\n",
      "Requirement already satisfied: pytz>=2020.1 in c:\\python38\\lib\\site-packages (from pandas>=0.24.0->aif360) (2022.1)\n",
      "Requirement already satisfied: python-dateutil>=2.8.1 in c:\\python38\\lib\\site-packages (from pandas>=0.24.0->aif360) (2.8.2)\n",
      "Requirement already satisfied: six>=1.5 in c:\\python38\\lib\\site-packages (from python-dateutil>=2.8.1->pandas>=0.24.0->aif360) (1.16.0)\n",
      "Requirement already satisfied: threadpoolctl>=2.0.0 in c:\\python38\\lib\\site-packages (from scikit-learn>=0.22.1->aif360) (3.1.0)\n",
      "Requirement already satisfied: joblib>=1.0.0 in c:\\python38\\lib\\site-packages (from scikit-learn>=0.22.1->aif360) (1.1.0)\n",
      "Requirement already satisfied: cycler>=0.10 in c:\\python38\\lib\\site-packages (from matplotlib->aif360) (0.11.0)\n",
      "Requirement already satisfied: pyparsing>=2.2.1 in c:\\python38\\lib\\site-packages (from matplotlib->aif360) (3.0.9)\n",
      "Requirement already satisfied: packaging>=20.0 in c:\\python38\\lib\\site-packages (from matplotlib->aif360) (21.3)\n",
      "Requirement already satisfied: fonttools>=4.22.0 in c:\\python38\\lib\\site-packages (from matplotlib->aif360) (4.33.3)\n",
      "Requirement already satisfied: pillow>=6.2.0 in c:\\python38\\lib\\site-packages (from matplotlib->aif360) (9.1.1)\n",
      "Requirement already satisfied: kiwisolver>=1.0.1 in c:\\python38\\lib\\site-packages (from matplotlib->aif360) (1.4.2)\n",
      "Requirement already satisfied: pytest in c:\\python38\\lib\\site-packages (from tempeh->aif360) (7.1.2)\n",
      "Requirement already satisfied: memory-profiler in c:\\python38\\lib\\site-packages (from tempeh->aif360) (0.60.0)\n",
      "Requirement already satisfied: requests in c:\\python38\\lib\\site-packages (from tempeh->aif360) (2.27.1)\n",
      "Requirement already satisfied: shap in c:\\python38\\lib\\site-packages (from tempeh->aif360) (0.40.0)\n",
      "Requirement already satisfied: psutil in c:\\python38\\lib\\site-packages (from memory-profiler->tempeh->aif360) (5.9.1)\n",
      "Requirement already satisfied: atomicwrites>=1.0 in c:\\python38\\lib\\site-packages (from pytest->tempeh->aif360) (1.4.0)\n",
      "Requirement already satisfied: tomli>=1.0.0 in c:\\python38\\lib\\site-packages (from pytest->tempeh->aif360) (2.0.1)\n",
      "Requirement already satisfied: iniconfig in c:\\python38\\lib\\site-packages (from pytest->tempeh->aif360) (1.1.1)\n",
      "Requirement already satisfied: py>=1.8.2 in c:\\python38\\lib\\site-packages (from pytest->tempeh->aif360) (1.11.0)\n",
      "Requirement already satisfied: pluggy<2.0,>=0.12 in c:\\python38\\lib\\site-packages (from pytest->tempeh->aif360) (1.0.0)\n",
      "Requirement already satisfied: attrs>=19.2.0 in c:\\python38\\lib\\site-packages (from pytest->tempeh->aif360) (21.4.0)\n",
      "Requirement already satisfied: colorama in c:\\python38\\lib\\site-packages (from pytest->tempeh->aif360) (0.4.4)\n",
      "Requirement already satisfied: charset-normalizer~=2.0.0 in c:\\python38\\lib\\site-packages (from requests->tempeh->aif360) (2.0.12)\n",
      "Requirement already satisfied: idna<4,>=2.5 in c:\\python38\\lib\\site-packages (from requests->tempeh->aif360) (3.3)\n",
      "Requirement already satisfied: urllib3<1.27,>=1.21.1 in c:\\python38\\lib\\site-packages (from requests->tempeh->aif360) (1.26.9)\n",
      "Requirement already satisfied: certifi>=2017.4.17 in c:\\python38\\lib\\site-packages (from requests->tempeh->aif360) (2022.5.18.1)\n",
      "Requirement already satisfied: slicer==0.0.7 in c:\\python38\\lib\\site-packages (from shap->tempeh->aif360) (0.0.7)\n",
      "Requirement already satisfied: numba in c:\\python38\\lib\\site-packages (from shap->tempeh->aif360) (0.55.2)\n",
      "Requirement already satisfied: tqdm>4.25.0 in c:\\python38\\lib\\site-packages (from shap->tempeh->aif360) (4.64.0)\n",
      "Requirement already satisfied: cloudpickle in c:\\python38\\lib\\site-packages (from shap->tempeh->aif360) (2.1.0)\n",
      "Requirement already satisfied: setuptools in c:\\python38\\lib\\site-packages (from numba->shap->tempeh->aif360) (56.0.0)\n",
      "Requirement already satisfied: llvmlite<0.39,>=0.38.0rc1 in c:\\python38\\lib\\site-packages (from numba->shap->tempeh->aif360) (0.38.1)\n",
      "Note: you may need to restart the kernel to use updated packages.\n"
     ]
    },
    {
     "name": "stderr",
     "output_type": "stream",
     "text": [
      "WARNING: You are using pip version 21.1.1; however, version 22.1.2 is available.\n",
      "You should consider upgrading via the 'c:\\Python38\\python.exe -m pip install --upgrade pip' command.\n"
     ]
    }
   ],
   "source": [
    "%pip install aif360"
   ]
  },
  {
   "cell_type": "code",
   "execution_count": 16,
   "metadata": {},
   "outputs": [
    {
     "name": "stdout",
     "output_type": "stream",
     "text": [
      "Requirement already satisfied: cvxpy==0.4.11 in c:\\python38\\lib\\site-packages (0.4.11)\n",
      "Requirement already satisfied: ecos>=2 in c:\\python38\\lib\\site-packages (from cvxpy==0.4.11) (2.0.10)\n",
      "Requirement already satisfied: scs>=1.1.3 in c:\\python38\\lib\\site-packages (from cvxpy==0.4.11) (3.2.0)\n",
      "Requirement already satisfied: multiprocess in c:\\python38\\lib\\site-packages (from cvxpy==0.4.11) (0.70.13)\n",
      "Requirement already satisfied: fastcache in c:\\python38\\lib\\site-packages (from cvxpy==0.4.11) (1.1.0)\n",
      "Requirement already satisfied: six in c:\\python38\\lib\\site-packages (from cvxpy==0.4.11) (1.16.0)\n",
      "Requirement already satisfied: toolz in c:\\python38\\lib\\site-packages (from cvxpy==0.4.11) (0.11.2)\n",
      "Requirement already satisfied: numpy>=1.9 in c:\\python38\\lib\\site-packages (from cvxpy==0.4.11) (1.22.4)\n",
      "Requirement already satisfied: scipy>=0.15 in c:\\python38\\lib\\site-packages (from cvxpy==0.4.11) (1.5.4)\n",
      "Requirement already satisfied: CVXcanon>=0.0.22 in c:\\python38\\lib\\site-packages (from cvxpy==0.4.11) (0.1.2)\n",
      "Requirement already satisfied: dill>=0.3.5.1 in c:\\python38\\lib\\site-packages (from multiprocess->cvxpy==0.4.11) (0.3.5.1)\n",
      "Note: you may need to restart the kernel to use updated packages.\n"
     ]
    },
    {
     "name": "stderr",
     "output_type": "stream",
     "text": [
      "WARNING: You are using pip version 21.1.1; however, version 22.1.2 is available.\n",
      "You should consider upgrading via the 'c:\\Python38\\python.exe -m pip install --upgrade pip' command.\n"
     ]
    }
   ],
   "source": [
    "%pip install cvxpy==0.4.11"
   ]
  },
  {
   "cell_type": "code",
   "execution_count": 21,
   "metadata": {},
   "outputs": [],
   "source": [
    "url = \"https://raw.githubusercontent.com/cchanyu/MachineLearning/main/SheetData/average-height-of-men-for-selected-countries.csv\"\n",
    "df = pd.read_csv(url, sep=',')"
   ]
  },
  {
   "cell_type": "code",
   "execution_count": 18,
   "metadata": {},
   "outputs": [],
   "source": [
    "from aif360.datasets import BinaryLabelDataset\n",
    "from aif360.metrics import BinaryLabelDatasetMetric\n",
    "from aif360.algorithms.preprocessing import Reweighing"
   ]
  },
  {
   "cell_type": "code",
   "execution_count": 22,
   "metadata": {},
   "outputs": [
    {
     "data": {
      "text/html": [
       "<div>\n",
       "<style scoped>\n",
       "    .dataframe tbody tr th:only-of-type {\n",
       "        vertical-align: middle;\n",
       "    }\n",
       "\n",
       "    .dataframe tbody tr th {\n",
       "        vertical-align: top;\n",
       "    }\n",
       "\n",
       "    .dataframe thead th {\n",
       "        text-align: right;\n",
       "    }\n",
       "</style>\n",
       "<table border=\"1\" class=\"dataframe\">\n",
       "  <thead>\n",
       "    <tr style=\"text-align: right;\">\n",
       "      <th></th>\n",
       "      <th>Entity</th>\n",
       "      <th>Code</th>\n",
       "      <th>Year</th>\n",
       "      <th>Human Height (University of Tuebingen (2015))</th>\n",
       "    </tr>\n",
       "  </thead>\n",
       "  <tbody>\n",
       "    <tr>\n",
       "      <th>0</th>\n",
       "      <td>Afghanistan</td>\n",
       "      <td>AFG</td>\n",
       "      <td>1870</td>\n",
       "      <td>168.4</td>\n",
       "    </tr>\n",
       "    <tr>\n",
       "      <th>1</th>\n",
       "      <td>Afghanistan</td>\n",
       "      <td>AFG</td>\n",
       "      <td>1880</td>\n",
       "      <td>165.7</td>\n",
       "    </tr>\n",
       "    <tr>\n",
       "      <th>2</th>\n",
       "      <td>Afghanistan</td>\n",
       "      <td>AFG</td>\n",
       "      <td>1930</td>\n",
       "      <td>166.8</td>\n",
       "    </tr>\n",
       "    <tr>\n",
       "      <th>3</th>\n",
       "      <td>Albania</td>\n",
       "      <td>ALB</td>\n",
       "      <td>1880</td>\n",
       "      <td>170.1</td>\n",
       "    </tr>\n",
       "    <tr>\n",
       "      <th>4</th>\n",
       "      <td>Albania</td>\n",
       "      <td>ALB</td>\n",
       "      <td>1890</td>\n",
       "      <td>169.8</td>\n",
       "    </tr>\n",
       "  </tbody>\n",
       "</table>\n",
       "</div>"
      ],
      "text/plain": [
       "        Entity Code  Year  Human Height (University of Tuebingen (2015))\n",
       "0  Afghanistan  AFG  1870                                          168.4\n",
       "1  Afghanistan  AFG  1880                                          165.7\n",
       "2  Afghanistan  AFG  1930                                          166.8\n",
       "3      Albania  ALB  1880                                          170.1\n",
       "4      Albania  ALB  1890                                          169.8"
      ]
     },
     "execution_count": 22,
     "metadata": {},
     "output_type": "execute_result"
    }
   ],
   "source": [
    "df.head()"
   ]
  },
  {
   "cell_type": "code",
   "execution_count": 53,
   "metadata": {},
   "outputs": [],
   "source": [
    "from aif360.datasets import StandardDataset\n",
    "class ModifiedDataset(StandardDataset):\n",
    "\n",
    "    def __init__(self, label_name='Human Height (University of Tuebingen (2015))', favorable_classes=[1],\\\n",
    "        protected_attribute_names=['Human Height (University of Tuebingen (2015))'],\\\n",
    "        privileged_classes=[[0],[0],[0],[0]],\\\n",
    "        instance_weights_name=None,\\\n",
    "        categorical_features=[],\\\n",
    "        features_to_keep=[], features_to_drop=[],\\\n",
    "        na_values=[], custom_preprocessing=None,\\\n",
    "        metadata=None):\n",
    "\n",
    "        super(ModifiedDataset, self).__init__(df=df, label_name=label_name,\n",
    "            favorable_classes=favorable_classes,\n",
    "            protected_attribute_names=protected_attribute_names,\n",
    "            privileged_classes=privileged_classes,\n",
    "            instance_weights_name=instance_weights_name,\n",
    "            categorical_features=categorical_features,\n",
    "            features_to_keep=features_to_keep,\n",
    "            features_to_drop=features_to_drop, na_values=na_values,\n",
    "            custom_preprocessing=custom_preprocessing, metadata=metadata)"
   ]
  },
  {
   "cell_type": "code",
   "execution_count": 54,
   "metadata": {},
   "outputs": [],
   "source": [
    "dataset_orig = ModifiedDataset(protected_attribute_names=['Human Height (University of Tuebingen (2015))'],\n",
    "privileged_classes=[lambda x: x >= 170],      \n",
    "features_to_drop=['Entity', 'Code']) \n",
    "\n",
    "dataset_orig_train, dataset_orig_test = dataset_orig.split([0.7], shuffle=True)\n",
    "\n",
    "privileged_groups = [{'Human Height (University of Tuebingen (2015))': 1}]\n",
    "unprivileged_groups = [{'Human Height (University of Tuebingen (2015))': 0}]"
   ]
  },
  {
   "cell_type": "code",
   "execution_count": 55,
   "metadata": {},
   "outputs": [
    {
     "name": "stdout",
     "output_type": "stream",
     "text": [
      "Difference in mean outcomes between unprivileged and privileged groups = -1.000000\n"
     ]
    }
   ],
   "source": [
    "metric_orig_train = BinaryLabelDatasetMetric(dataset_orig_train, \n",
    "                                             unprivileged_groups=unprivileged_groups,\n",
    "                                             privileged_groups=privileged_groups)\n",
    "print(\"Difference in mean outcomes between unprivileged and privileged groups = %f\" % metric_orig_train.mean_difference())"
   ]
  },
  {
   "cell_type": "code",
   "execution_count": 56,
   "metadata": {},
   "outputs": [
    {
     "name": "stderr",
     "output_type": "stream",
     "text": [
      "divide by zero encountered in double_scalars\n",
      "divide by zero encountered in double_scalars\n"
     ]
    }
   ],
   "source": [
    "RW = Reweighing(unprivileged_groups=unprivileged_groups,\n",
    "                privileged_groups=privileged_groups)\n",
    "dataset_transf_train = RW.fit_transform(dataset_orig_train)"
   ]
  },
  {
   "cell_type": "code",
   "execution_count": 57,
   "metadata": {},
   "outputs": [
    {
     "name": "stdout",
     "output_type": "stream",
     "text": [
      "Difference in mean outcomes between unprivileged and privileged groups = -1.000000\n"
     ]
    }
   ],
   "source": [
    "metric_transf_train = BinaryLabelDatasetMetric(dataset_transf_train, \n",
    "                                               unprivileged_groups=unprivileged_groups,\n",
    "                                               privileged_groups=privileged_groups)\n",
    "print(\"Difference in mean outcomes between unprivileged and privileged groups = %f\" % metric_transf_train.mean_difference())"
   ]
  }
 ],
 "metadata": {
  "interpreter": {
   "hash": "9650cb4e16cdd4a8e8e2d128bf38d875813998db22a3c986335f89e0cb4d7bb2"
  },
  "kernelspec": {
   "display_name": "Python 3.8.10 64-bit",
   "language": "python",
   "name": "python3"
  },
  "language_info": {
   "codemirror_mode": {
    "name": "ipython",
    "version": 3
   },
   "file_extension": ".py",
   "mimetype": "text/x-python",
   "name": "python",
   "nbconvert_exporter": "python",
   "pygments_lexer": "ipython3",
   "version": "3.8.10"
  },
  "orig_nbformat": 4
 },
 "nbformat": 4,
 "nbformat_minor": 2
}
